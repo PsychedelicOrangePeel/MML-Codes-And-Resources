{
 "cells": [
  {
   "cell_type": "code",
   "execution_count": 1,
   "metadata": {},
   "outputs": [],
   "source": [
    "import numpy as np"
   ]
  },
  {
   "cell_type": "code",
   "execution_count": 1,
   "metadata": {},
   "outputs": [
    {
     "name": "stdout",
     "output_type": "stream",
     "text": [
      "0.9800000000000001\n"
     ]
    }
   ],
   "source": [
    "import numpy as np\n",
    "\n",
    "def neural_network(input, weights):\n",
    "    assert input.shape == weights.shape\n",
    "    return np.dot(input, weights)\n",
    "\n",
    "weights = np.array([0.1, 0.2, 0])  # This is already learnt\n",
    "\n",
    "height = np.array([8.5, 9.5, 9.9, 9.0])\n",
    "weight = np.array([0.65, 0.8, 0.8, 0.9])\n",
    "age = np.array([1.2, 1.3, 0.5, 1.0])\n",
    "\n",
    "input_data = np.array([height[0], weight[0], age[0]])\n",
    "prediction = neural_network(input_data, weights)\n",
    "\n",
    "print(prediction)\n",
    "\n",
    "    "
   ]
  }
 ],
 "metadata": {
  "kernelspec": {
   "display_name": "Python 3",
   "language": "python",
   "name": "python3"
  },
  "language_info": {
   "codemirror_mode": {
    "name": "ipython",
    "version": 3
   },
   "file_extension": ".py",
   "mimetype": "text/x-python",
   "name": "python",
   "nbconvert_exporter": "python",
   "pygments_lexer": "ipython3",
   "version": "3.12.0"
  }
 },
 "nbformat": 4,
 "nbformat_minor": 2
}
