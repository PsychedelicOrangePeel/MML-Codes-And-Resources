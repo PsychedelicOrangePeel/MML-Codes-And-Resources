{
 "cells": [
  {
   "cell_type": "code",
   "execution_count": 1,
   "metadata": {},
   "outputs": [
    {
     "name": "stdout",
     "output_type": "stream",
     "text": [
      "[1 2 3]\n",
      "[1 2 3]\n",
      "[1 4 9]\n"
     ]
    }
   ],
   "source": [
    "# vector multiplication (element wise operation)\n",
    "from numpy import array\n",
    "# define first vector\n",
    "a = array([1, 2, 3])\n",
    "print(a)\n",
    "# define second vector\n",
    "b = array([1, 2, 3])\n",
    "print(b)\n",
    "# multiply vectors\n",
    "c = a * b\n",
    "print(c)"
   ]
  },
  {
   "cell_type": "code",
   "execution_count": 2,
   "metadata": {},
   "outputs": [
    {
     "name": "stdout",
     "output_type": "stream",
     "text": [
      "[1 2 3]\n",
      "[1 2 3]\n",
      "[1. 1. 1.]\n"
     ]
    }
   ],
   "source": [
    "# vector division (element wise)\n",
    "from numpy import array\n",
    "# define first vector\n",
    "a = array([1, 2, 3])\n",
    "print(a)\n",
    "# define second vector\n",
    "b = array([1, 2, 3])\n",
    "print(b)\n",
    "# divide vectors\n",
    "c = a / b\n",
    "print(c)"
   ]
  },
  {
   "cell_type": "code",
   "execution_count": 3,
   "metadata": {},
   "outputs": [
    {
     "name": "stdout",
     "output_type": "stream",
     "text": [
      "[1 2 3]\n",
      "[1 2 3]\n",
      "14\n"
     ]
    }
   ],
   "source": [
    "# vector dot product\n",
    "from numpy import array\n",
    "# define first vector\n",
    "a = array([1, 2, 3])\n",
    "print(a)\n",
    "# define second vector\n",
    "b = array([1, 2, 3])\n",
    "print(b)\n",
    "# multiply vectors\n",
    "c = a.dot(b)\n",
    "print(c)"
   ]
  },
  {
   "cell_type": "code",
   "execution_count": null,
   "metadata": {},
   "outputs": [],
   "source": []
  }
 ],
 "metadata": {
  "kernelspec": {
   "display_name": "Python 3",
   "language": "python",
   "name": "python3"
  },
  "language_info": {
   "codemirror_mode": {
    "name": "ipython",
    "version": 3
   },
   "file_extension": ".py",
   "mimetype": "text/x-python",
   "name": "python",
   "nbconvert_exporter": "python",
   "pygments_lexer": "ipython3",
   "version": "3.12.0"
  }
 },
 "nbformat": 4,
 "nbformat_minor": 2
}
