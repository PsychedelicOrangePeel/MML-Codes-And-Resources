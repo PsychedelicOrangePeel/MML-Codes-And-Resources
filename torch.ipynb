{
 "cells": [
  {
   "cell_type": "code",
   "execution_count": 1,
   "metadata": {},
   "outputs": [],
   "source": [
    "import torch "
   ]
  },
  {
   "cell_type": "code",
   "execution_count": 3,
   "metadata": {},
   "outputs": [
    {
     "name": "stdout",
     "output_type": "stream",
     "text": [
      "x + y =  tensor([5.])\n",
      "x * y =  tensor([6.])\n",
      "x / y =  tensor([1.5000])\n",
      "x ** y =  tensor([9.])\n"
     ]
    }
   ],
   "source": [
    "x = torch.tensor([3.0])\n",
    "y = torch.tensor([2.0])\n",
    "\n",
    "print('x + y = ', x + y)\n",
    "print('x * y = ', x * y)\n",
    "print('x / y = ', x / y)\n",
    "print('x ** y = ', torch.pow(x,y))"
   ]
  },
  {
   "cell_type": "markdown",
   "metadata": {},
   "source": [
    "### Overflow and Underflow, are two issues with the ``torch.pow()`` method:\n",
    "\n",
    "#### convert to float using ``.item()``"
   ]
  },
  {
   "cell_type": "code",
   "execution_count": 4,
   "metadata": {},
   "outputs": [
    {
     "name": "stdout",
     "output_type": "stream",
     "text": [
      "x is: tensor([0, 1, 2, 3])\n"
     ]
    }
   ],
   "source": [
    "#generate a range of numbers within the tensor usimg .arange()\n",
    "\n",
    "x= torch.arange(4)\n",
    "\n",
    "print(\"x is:\", x)"
   ]
  },
  {
   "cell_type": "markdown",
   "metadata": {},
   "source": [
    "#### This shit is compatible to **indexing** and all array methods in python. "
   ]
  },
  {
   "cell_type": "code",
   "execution_count": 7,
   "metadata": {},
   "outputs": [
    {
     "name": "stdout",
     "output_type": "stream",
     "text": [
      "torch.Size([4])\n"
     ]
    },
    {
     "data": {
      "text/plain": [
       "4"
      ]
     },
     "execution_count": 7,
     "metadata": {},
     "output_type": "execute_result"
    }
   ],
   "source": [
    "x[3]\n",
    "\n",
    "print(x.shape)\n",
    "\n",
    "len(x)"
   ]
  },
  {
   "cell_type": "code",
   "execution_count": 8,
   "metadata": {},
   "outputs": [
    {
     "name": "stdout",
     "output_type": "stream",
     "text": [
      "tensor([2, 4, 6])\n",
      "tensor([12, 24, 36])\n"
     ]
    }
   ],
   "source": [
    "a = 2\n",
    "\n",
    "x = torch.tensor([1,2,3])\n",
    "\n",
    "y = torch.tensor([10,20,30])\n",
    "\n",
    "print(a * x)\n",
    "\n",
    "print(a * x + y)"
   ]
  },
  {
   "cell_type": "markdown",
   "metadata": {},
   "source": [
    "### ``a * x + y`` works like basic array operations."
   ]
  },
  {
   "cell_type": "markdown",
   "metadata": {},
   "source": [
    "$$A=\\begin{pmatrix}\n",
    " a_{11} & a_{12} & \\cdots & a_{1m} \\\\\n",
    " a_{21} & a_{22} & \\cdots & a_{2m} \\\\\n",
    "\\vdots & \\vdots & \\ddots & \\vdots \\\\\n",
    " a_{n1} & a_{n2} & \\cdots & a_{nm} \\\\\n",
    "\\end{pmatrix}$$\n",
    "\n",
    "#### N rows and M columns in a matrix is made, and we can initialise them to zeros and ones."
   ]
  },
  {
   "cell_type": "code",
   "execution_count": 9,
   "metadata": {},
   "outputs": [
    {
     "name": "stdout",
     "output_type": "stream",
     "text": [
      "tensor([[ 0.,  1.,  2.,  3.],\n",
      "        [ 4.,  5.,  6.,  7.],\n",
      "        [ 8.,  9., 10., 11.],\n",
      "        [12., 13., 14., 15.],\n",
      "        [16., 17., 18., 19.]])\n"
     ]
    }
   ],
   "source": [
    "#now, we can initialise a tensor and shape it into a matrix.\n",
    "\n",
    "A= torch.arange(20, dtype=torch.float32).reshape((5,4))\n",
    "\n",
    "print(A)"
   ]
  },
  {
   "cell_type": "code",
   "execution_count": 10,
   "metadata": {},
   "outputs": [
    {
     "name": "stdout",
     "output_type": "stream",
     "text": [
      "tensor([[ 0.,  4.,  8., 12., 16.],\n",
      "        [ 1.,  5.,  9., 13., 17.],\n",
      "        [ 2.,  6., 10., 14., 18.],\n",
      "        [ 3.,  7., 11., 15., 19.]])\n"
     ]
    }
   ],
   "source": [
    "# the .t() method will transpose the matrix\n",
    "\n",
    "print(A.t())"
   ]
  },
  {
   "cell_type": "code",
   "execution_count": 12,
   "metadata": {},
   "outputs": [
    {
     "name": "stdout",
     "output_type": "stream",
     "text": [
      "X.shape: torch.Size([2, 3, 4, 1])\n",
      "X= tensor([[[[ 0],\n",
      "          [ 1],\n",
      "          [ 2],\n",
      "          [ 3]],\n",
      "\n",
      "         [[ 4],\n",
      "          [ 5],\n",
      "          [ 6],\n",
      "          [ 7]],\n",
      "\n",
      "         [[ 8],\n",
      "          [ 9],\n",
      "          [10],\n",
      "          [11]]],\n",
      "\n",
      "\n",
      "        [[[12],\n",
      "          [13],\n",
      "          [14],\n",
      "          [15]],\n",
      "\n",
      "         [[16],\n",
      "          [17],\n",
      "          [18],\n",
      "          [19]],\n",
      "\n",
      "         [[20],\n",
      "          [21],\n",
      "          [22],\n",
      "          [23]]]])\n",
      "tensor([[[ 0,  1,  2,  3],\n",
      "         [ 4,  5,  6,  7],\n",
      "         [ 8,  9, 10, 11]],\n",
      "\n",
      "        [[12, 13, 14, 15],\n",
      "         [16, 17, 18, 19],\n",
      "         [20, 21, 22, 23]]])\n"
     ]
    }
   ],
   "source": [
    "X= torch.arange(24).reshape(2,3,4,1)\n",
    "print(\"X.shape:\", X.shape)\n",
    "\n",
    "print(\"X=\", X)\n",
    "\n",
    "Y= torch.arange(24).reshape(2,3,4)\n",
    "print(Y)\n"
   ]
  }
 ],
 "metadata": {
  "kernelspec": {
   "display_name": "Python 3",
   "language": "python",
   "name": "python3"
  },
  "language_info": {
   "codemirror_mode": {
    "name": "ipython",
    "version": 3
   },
   "file_extension": ".py",
   "mimetype": "text/x-python",
   "name": "python",
   "nbconvert_exporter": "python",
   "pygments_lexer": "ipython3",
   "version": "3.12.0"
  }
 },
 "nbformat": 4,
 "nbformat_minor": 2
}
