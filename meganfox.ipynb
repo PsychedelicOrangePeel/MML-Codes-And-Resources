{
 "cells": [
  {
   "cell_type": "code",
   "execution_count": 3,
   "metadata": {},
   "outputs": [
    {
     "name": "stdout",
     "output_type": "stream",
     "text": [
      "[11 22 33 44 55]\n",
      "(5,)\n",
      "(5, 1)\n",
      "[[11]\n",
      " [22]\n",
      " [33]\n",
      " [44]\n",
      " [55]]\n"
     ]
    }
   ],
   "source": [
    "#LETS RESHAPE THIS BITCH\n",
    "\n",
    "from numpy import array\n",
    "# define array\n",
    "data = array([11, 22, 33, 44, 55])\n",
    "print(data)\n",
    "print(data.shape)\n",
    "# reshape\n",
    "data = data.reshape((data.shape[0], 1))\n",
    "print(data.shape)\n",
    "\n",
    "#reshape is an object within array, array in itself has plenty of callables\n",
    "\n",
    "#the shape simply changes \n",
    "print(data)"
   ]
  },
  {
   "cell_type": "code",
   "execution_count": 4,
   "metadata": {},
   "outputs": [
    {
     "name": "stdout",
     "output_type": "stream",
     "text": [
      "[[11 22]\n",
      " [33 44]\n",
      " [55 66]]\n",
      "(3, 2)\n",
      "(3, 2, 1)\n",
      "[[[11]\n",
      "  [22]]\n",
      "\n",
      " [[33]\n",
      "  [44]]\n",
      "\n",
      " [[55]\n",
      "  [66]]]\n"
     ]
    }
   ],
   "source": [
    "#reshape 2D array to 3D\n",
    "from numpy import array\n",
    "# list of data\n",
    "data = [[11, 22],\n",
    "\t\t[33, 44],\n",
    "\t\t[55, 66]]\n",
    "# array of data\n",
    "data = array(data)\n",
    "\n",
    "print(data)\n",
    "print(data.shape)\n",
    "# reshape\n",
    "data = data.reshape((data.shape[0], data.shape[1], 1))\n",
    "print(data.shape)\n",
    "print(data)"
   ]
  },
  {
   "cell_type": "code",
   "execution_count": null,
   "metadata": {},
   "outputs": [],
   "source": []
  }
 ],
 "metadata": {
  "kernelspec": {
   "display_name": "Python 3",
   "language": "python",
   "name": "python3"
  },
  "language_info": {
   "codemirror_mode": {
    "name": "ipython",
    "version": 3
   },
   "file_extension": ".py",
   "mimetype": "text/x-python",
   "name": "python",
   "nbconvert_exporter": "python",
   "pygments_lexer": "ipython3",
   "version": "3.12.0"
  }
 },
 "nbformat": 4,
 "nbformat_minor": 2
}
