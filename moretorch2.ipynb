{
 "cells": [
  {
   "cell_type": "code",
   "execution_count": 5,
   "metadata": {},
   "outputs": [],
   "source": [
    "import torch "
   ]
  },
  {
   "cell_type": "code",
   "execution_count": 6,
   "metadata": {},
   "outputs": [
    {
     "data": {
      "text/plain": [
       "tensor([[[-0.3384,  2.1788, -0.9354,  0.8547,  1.1262],\n",
       "         [-0.7549, -0.5107,  0.7220, -0.3474,  0.8390],\n",
       "         [ 1.7354,  1.2667, -0.9652, -0.5518,  1.1034]],\n",
       "\n",
       "        [[ 0.1506,  1.6516, -1.2644, -0.5240, -0.6791],\n",
       "         [-1.8960,  0.2883, -0.5237,  1.1870, -0.1555],\n",
       "         [-1.1609,  1.1445,  0.8249,  0.4653,  0.0467]]])"
      ]
     },
     "execution_count": 6,
     "metadata": {},
     "output_type": "execute_result"
    }
   ],
   "source": [
    "torch.randn((2,3,5))"
   ]
  },
  {
   "cell_type": "code",
   "execution_count": 7,
   "metadata": {},
   "outputs": [
    {
     "name": "stdout",
     "output_type": "stream",
     "text": [
      "x = tensor([1., 2., 4., 8.])\n",
      "x + y tensor([ 3.,  4.,  6., 10.])\n",
      "x - y tensor([-1.,  0.,  2.,  6.])\n",
      "x * y tensor([ 2.,  4.,  8., 16.])\n",
      "x / y tensor([0.5000, 1.0000, 2.0000, 4.0000])\n"
     ]
    }
   ],
   "source": [
    "x = torch.tensor([1, 2, 4, 8], dtype=torch.float32)\n",
    "y = torch.ones_like(x) * 2\n",
    "print('x =', x)\n",
    "print('x + y', x + y)\n",
    "print('x - y', x - y)\n",
    "print('x * y', x * y)\n",
    "print('x / y', x / y)"
   ]
  },
  {
   "cell_type": "markdown",
   "metadata": {},
   "source": [
    "### ``torch.randn()`` initialises your matrices with random numbers."
   ]
  },
  {
   "cell_type": "markdown",
   "metadata": {},
   "source": [
    "#### ``torch.ones_like()`` basically takes another tensor as an argument, and produces a tensor full of ones based on the size, dimensions and datatypes of the tensor that is passed as an argument.\n"
   ]
  },
  {
   "cell_type": "code",
   "execution_count": 8,
   "metadata": {},
   "outputs": [
    {
     "data": {
      "text/plain": [
       "tensor([2.7183e+00, 7.3891e+00, 5.4598e+01, 2.9810e+03])"
      ]
     },
     "execution_count": 8,
     "metadata": {},
     "output_type": "execute_result"
    }
   ],
   "source": [
    "torch.exp(x)"
   ]
  },
  {
   "cell_type": "code",
   "execution_count": 9,
   "metadata": {},
   "outputs": [
    {
     "name": "stdout",
     "output_type": "stream",
     "text": [
      "torch.float32\n",
      "tensor([[2., 1., 4., 3.],\n",
      "        [1., 2., 3., 4.],\n",
      "        [4., 3., 2., 1.]])\n"
     ]
    },
    {
     "data": {
      "text/plain": [
       "tensor([[ 18.,  20.,  10.],\n",
       "        [ 58.,  60.,  50.],\n",
       "        [ 98., 100.,  90.]])"
      ]
     },
     "execution_count": 9,
     "metadata": {},
     "output_type": "execute_result"
    }
   ],
   "source": [
    "x = torch.arange(12, dtype=torch.float32).reshape((3,4))\n",
    "y = torch.tensor([[2, 1, 4, 3], [1, 2, 3, 4], [4, 3, 2, 1]], dtype=torch.float32)\n",
    "print(x.dtype)\n",
    "print(y)\n",
    "torch.mm(x, y.t())"
   ]
  },
  {
   "cell_type": "markdown",
   "metadata": {},
   "source": [
    "#### ``torch.exp()`` returns every element ``i`` in the tensor and then $e^i$ is returned."
   ]
  }
 ],
 "metadata": {
  "kernelspec": {
   "display_name": "Python 3",
   "language": "python",
   "name": "python3"
  },
  "language_info": {
   "codemirror_mode": {
    "name": "ipython",
    "version": 3
   },
   "file_extension": ".py",
   "mimetype": "text/x-python",
   "name": "python",
   "nbconvert_exporter": "python",
   "pygments_lexer": "ipython3",
   "version": "3.12.0"
  }
 },
 "nbformat": 4,
 "nbformat_minor": 2
}
