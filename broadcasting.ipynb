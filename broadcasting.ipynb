{
 "cells": [
  {
   "cell_type": "code",
   "execution_count": 1,
   "metadata": {},
   "outputs": [
    {
     "name": "stdout",
     "output_type": "stream",
     "text": [
      "[1 2 3]\n",
      "2\n",
      "[3 4 5]\n"
     ]
    }
   ],
   "source": [
    "# broadcast scalar to one-dimensional array\n",
    "from numpy import array\n",
    "# define array\n",
    "a = array([1, 2, 3])\n",
    "print(a)\n",
    "# define scalar\n",
    "b = 2\n",
    "print(b)\n",
    "# broadcast\n",
    "c = a + b\n",
    "print(c)\n",
    "\n",
    "#just add them, its not rocket science.\n"
   ]
  },
  {
   "cell_type": "code",
   "execution_count": 3,
   "metadata": {},
   "outputs": [
    {
     "name": "stdout",
     "output_type": "stream",
     "text": [
      "[[1 2 3]\n",
      " [1 2 3]]\n",
      "2\n",
      "[[3 4 5]\n",
      " [3 4 5]]\n"
     ]
    }
   ],
   "source": [
    "# broadcast scalar to two-dimensional array\n",
    "from numpy import array\n",
    "# define array\n",
    "A = array([\n",
    "\t[1, 2, 3],\n",
    "\t[1, 2, 3]])\n",
    "print(A)\n",
    "# define scalar\n",
    "b = 2\n",
    "print(b)\n",
    "# broadcast\n",
    "C = A + b\n",
    "print(C)\n",
    "\n",
    "#again, scalars are the shit, they'll just become a 2d array with the same values stored in the variable being repeated\n",
    "\n",
    "#AT EVERY INDEX.\n",
    "\n",
    "#2 becomes [[2, 2, 2]\n",
    "#          [2, 2, 2]]  "
   ]
  },
  {
   "cell_type": "code",
   "execution_count": 4,
   "metadata": {},
   "outputs": [
    {
     "name": "stdout",
     "output_type": "stream",
     "text": [
      "[[1 2 3]\n",
      " [1 2 3]]\n",
      "[1 2 3]\n",
      "[[2 4 6]\n",
      " [2 4 6]]\n"
     ]
    }
   ],
   "source": [
    "# broadcast one-dimensional array to two-dimensional array\n",
    "from numpy import array\n",
    "# define two-dimensional array\n",
    "A = array([\n",
    "\t[1, 2, 3],\n",
    "\t[1, 2, 3]])\n",
    "print(A)\n",
    "# define one-dimensional array\n",
    "b = array([1, 2, 3])\n",
    "print(b)\n",
    "# broadcast\n",
    "C = A + b\n",
    "print(C)\n",
    "\n",
    "#arrays do this too, they'll just repeat the row or column"
   ]
  },
  {
   "cell_type": "code",
   "execution_count": 5,
   "metadata": {},
   "outputs": [
    {
     "name": "stdout",
     "output_type": "stream",
     "text": [
      "(2, 3)\n",
      "(2,)\n"
     ]
    },
    {
     "ename": "ValueError",
     "evalue": "operands could not be broadcast together with shapes (2,3) (2,) ",
     "output_type": "error",
     "traceback": [
      "\u001b[1;31m---------------------------------------------------------------------------\u001b[0m",
      "\u001b[1;31mValueError\u001b[0m                                Traceback (most recent call last)",
      "Cell \u001b[1;32mIn[5], line 12\u001b[0m\n\u001b[0;32m     10\u001b[0m \u001b[38;5;28mprint\u001b[39m(b\u001b[38;5;241m.\u001b[39mshape)\n\u001b[0;32m     11\u001b[0m \u001b[38;5;66;03m# attempt broadcast\u001b[39;00m\n\u001b[1;32m---> 12\u001b[0m C \u001b[38;5;241m=\u001b[39m \u001b[43mA\u001b[49m\u001b[43m \u001b[49m\u001b[38;5;241;43m+\u001b[39;49m\u001b[43m \u001b[49m\u001b[43mb\u001b[49m\n\u001b[0;32m     13\u001b[0m \u001b[38;5;28mprint\u001b[39m(C)\n\u001b[0;32m     15\u001b[0m \u001b[38;5;66;03m#yeh wala thoda jyada hi crayzy hogya bhai, its intuitive why this is messed up\u001b[39;00m\n",
      "\u001b[1;31mValueError\u001b[0m: operands could not be broadcast together with shapes (2,3) (2,) "
     ]
    }
   ],
   "source": [
    "# broadcasting error\n",
    "from numpy import array\n",
    "# define two-dimensional array\n",
    "A = array([\n",
    "\t[1, 2, 3],\n",
    "\t[1, 2, 3]])\n",
    "print(A.shape)\n",
    "# define one-dimensional array\n",
    "b = array([1, 2])\n",
    "print(b.shape)\n",
    "# attempt broadcast\n",
    "C = A + b\n",
    "print(C)\n",
    "\n",
    "#yeh wala thoda jyada hi crayzy hogya bhai, its intuitive why this is messed up"
   ]
  },
  {
   "cell_type": "code",
   "execution_count": null,
   "metadata": {},
   "outputs": [],
   "source": []
  }
 ],
 "metadata": {
  "kernelspec": {
   "display_name": "Python 3",
   "language": "python",
   "name": "python3"
  },
  "language_info": {
   "codemirror_mode": {
    "name": "ipython",
    "version": 3
   },
   "file_extension": ".py",
   "mimetype": "text/x-python",
   "name": "python",
   "nbconvert_exporter": "python",
   "pygments_lexer": "ipython3",
   "version": "3.12.0"
  }
 },
 "nbformat": 4,
 "nbformat_minor": 2
}
