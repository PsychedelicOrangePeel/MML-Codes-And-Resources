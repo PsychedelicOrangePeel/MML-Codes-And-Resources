{
 "cells": [
  {
   "cell_type": "code",
   "execution_count": 1,
   "metadata": {},
   "outputs": [],
   "source": [
    "import numpy as np"
   ]
  },
  {
   "cell_type": "code",
   "execution_count": 2,
   "metadata": {},
   "outputs": [],
   "source": [
    "# Task 1.1: Create a 1D vector 'v' with elements [1, 2, 3]\n",
    "v = np.array([1, 2, 3])\n",
    "\n",
    "# Task 1.2: Create a 3x3 matrix 'A' with elements [[1, 2, 3], [4, 5, 6], [7, 8, 9]]\n",
    "A = np.array([[1, 2, 3],\n",
    "              [4, 5, 6],\n",
    "              [7, 8, 9]])\n",
    "\n",
    "# Task 1.3: Create a 3D tensor 'T' with shape (3, 2, 3)\n",
    "T = np.array([[[1, 2, 3], [4, 5, 6]],\n",
    "              [[7, 8, 9], [10, 11, 12]],\n",
    "              [[13, 14, 15], [16, 17, 18]]])"
   ]
  },
  {
   "cell_type": "code",
   "execution_count": 5,
   "metadata": {},
   "outputs": [
    {
     "name": "stdout",
     "output_type": "stream",
     "text": [
      "9\n"
     ]
    }
   ],
   "source": [
    "#checking for linear dependencies\n",
    "\n",
    "coeffecients= np.array([2,-1,3])\n",
    "\n",
    "result_dependancy=np.dot(v,coeffecients)\n",
    "\n",
    "print(result_dependancy)"
   ]
  },
  {
   "cell_type": "code",
   "execution_count": 6,
   "metadata": {},
   "outputs": [],
   "source": [
    "is_linear_dependent = np.all(np.isclose([2, 4, 6], 2 * v))"
   ]
  },
  {
   "cell_type": "code",
   "execution_count": 9,
   "metadata": {},
   "outputs": [
    {
     "name": "stdout",
     "output_type": "stream",
     "text": [
      "It is linearly dependent: True\n"
     ]
    }
   ],
   "source": [
    "print(\"It is linearly dependent:\",is_linear_dependent)"
   ]
  }
 ],
 "metadata": {
  "kernelspec": {
   "display_name": "Python 3",
   "language": "python",
   "name": "python3"
  },
  "language_info": {
   "codemirror_mode": {
    "name": "ipython",
    "version": 3
   },
   "file_extension": ".py",
   "mimetype": "text/x-python",
   "name": "python",
   "nbconvert_exporter": "python",
   "pygments_lexer": "ipython3",
   "version": "3.12.0"
  }
 },
 "nbformat": 4,
 "nbformat_minor": 2
}
