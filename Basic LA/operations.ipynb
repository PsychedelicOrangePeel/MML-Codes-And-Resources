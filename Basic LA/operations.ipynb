{
 "cells": [
  {
   "cell_type": "code",
   "execution_count": 1,
   "metadata": {},
   "outputs": [],
   "source": [
    "import numpy as np\n",
    "v= np.array([1,2,3])\n",
    "\n",
    "A= np.array([[1,2,3],\n",
    "             [4,5,6],\n",
    "             [7,8,9]])"
   ]
  },
  {
   "cell_type": "code",
   "execution_count": 2,
   "metadata": {},
   "outputs": [],
   "source": [
    "T = np.array([[[1, 2, 3], [4, 5, 6]],\n",
    "              [[7, 8, 9], [10, 11, 12]],\n",
    "              [[13, 14, 15], [16, 17, 18]]])"
   ]
  },
  {
   "cell_type": "code",
   "execution_count": 5,
   "metadata": {},
   "outputs": [],
   "source": [
    "#let us now perform some basic operations \n",
    "\n",
    "result_add= v + np.array([4,5,6])\n",
    "\n",
    "result_sub=v - np.array([4,5,6])\n",
    "\n",
    "#now declare a scalar and multiply our vector with it \n",
    "scalar=2\n",
    "result_scalar_mul= scalar*v"
   ]
  },
  {
   "cell_type": "code",
   "execution_count": 6,
   "metadata": {},
   "outputs": [
    {
     "name": "stdout",
     "output_type": "stream",
     "text": [
      "[5 7 9]\n",
      "[-3 -3 -3]\n",
      "[2 4 6]\n"
     ]
    }
   ],
   "source": [
    "print(result_add)\n",
    "\n",
    "print(result_sub)\n",
    "\n",
    "print(result_scalar_mul)"
   ]
  },
  {
   "cell_type": "code",
   "execution_count": 7,
   "metadata": {},
   "outputs": [],
   "source": [
    "#generate a random matrix\n",
    "B=np.random.rand(3,3)\n",
    "\n",
    "#this command then generates a random 3x3 matrix"
   ]
  },
  {
   "cell_type": "code",
   "execution_count": 8,
   "metadata": {},
   "outputs": [
    {
     "name": "stdout",
     "output_type": "stream",
     "text": [
      "[[0.10005945 0.15358311 0.11375023]\n",
      " [0.22764429 0.68724018 0.81310238]\n",
      " [0.08620704 0.09745134 0.9748569 ]]\n",
      "[[1.10005945 2.15358311 3.11375023]\n",
      " [4.22764429 5.68724018 6.81310238]\n",
      " [7.08620704 8.09745134 9.9748569 ]]\n"
     ]
    }
   ],
   "source": [
    "print(B)\n",
    "print(A+B)"
   ]
  },
  {
   "cell_type": "code",
   "execution_count": 9,
   "metadata": {},
   "outputs": [
    {
     "name": "stdout",
     "output_type": "stream",
     "text": [
      "[[ 0.81396917  1.82041749  4.6645257 ]\n",
      " [ 2.05570154  4.63524137 10.36965425]\n",
      " [ 3.29743391  7.45006526 16.07478279]]\n"
     ]
    }
   ],
   "source": [
    "#to perform matrix multiplication, we simply take the dot product of the two matrices\n",
    "\n",
    "result_mat_mul= np.dot(A,B)\n",
    "\n",
    "print(result_mat_mul)"
   ]
  }
 ],
 "metadata": {
  "kernelspec": {
   "display_name": "Python 3",
   "language": "python",
   "name": "python3"
  },
  "language_info": {
   "codemirror_mode": {
    "name": "ipython",
    "version": 3
   },
   "file_extension": ".py",
   "mimetype": "text/x-python",
   "name": "python",
   "nbconvert_exporter": "python",
   "pygments_lexer": "ipython3",
   "version": "3.12.0"
  }
 },
 "nbformat": 4,
 "nbformat_minor": 2
}
