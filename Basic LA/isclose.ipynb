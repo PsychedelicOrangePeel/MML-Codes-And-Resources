{
 "cells": [
  {
   "cell_type": "code",
   "execution_count": 1,
   "metadata": {},
   "outputs": [],
   "source": [
    "import numpy as np"
   ]
  },
  {
   "cell_type": "code",
   "execution_count": 2,
   "metadata": {},
   "outputs": [
    {
     "name": "stdout",
     "output_type": "stream",
     "text": [
      "[[False  True False]\n",
      " [False  True False]\n",
      " [False False False]]\n"
     ]
    }
   ],
   "source": [
    "a= np.array([[0.0, 0.0, 0.0],\n",
    "            [1.0, 1.0, -2.234],\n",
    "            [0.0, 0.0, 0.0]])\n",
    "\n",
    "b= np.array([1.0, 1.0, -2.234])\n",
    "print(np.isclose(np.transpose(a), b))"
   ]
  },
  {
   "cell_type": "code",
   "execution_count": 3,
   "metadata": {},
   "outputs": [
    {
     "data": {
      "text/plain": [
       "array([[False,  True, False],\n",
       "       [False,  True, False],\n",
       "       [False, False, False]])"
      ]
     },
     "execution_count": 3,
     "metadata": {},
     "output_type": "execute_result"
    }
   ],
   "source": [
    "np.isclose([[0.0, 1.0, 0.0],\n",
    "            [0.0, 1.0, 0.0],\n",
    "            [0.0, -2.234, 0.0]],\n",
    "\n",
    "           [[1.0, 1.0, -2.234],\n",
    "            [1.0, 1.0, -2.234],\n",
    "            [1.0, 1.0, -2.234]])"
   ]
  },
  {
   "cell_type": "code",
   "execution_count": 4,
   "metadata": {},
   "outputs": [
    {
     "data": {
      "text/plain": [
       "array([[False, False, False],\n",
       "       [ True,  True,  True],\n",
       "       [False, False, False]])"
      ]
     },
     "execution_count": 4,
     "metadata": {},
     "output_type": "execute_result"
    }
   ],
   "source": [
    "np.isclose([[0.0, 0.0, 0.0],\n",
    "            [1.0, 1.0, -2.234],\n",
    "            [0.0, 0.0, 0.0]],\n",
    "\n",
    "           [[1.0, 1.0, -2.234],\n",
    "            [1.0, 1.0, -2.234],\n",
    "            [1.0, 1.0, -2.234]])"
   ]
  },
  {
   "cell_type": "code",
   "execution_count": 5,
   "metadata": {},
   "outputs": [
    {
     "name": "stdout",
     "output_type": "stream",
     "text": [
      "[[False  True False]\n",
      " [False  True False]\n",
      " [False  True False]]\n"
     ]
    }
   ],
   "source": [
    "#isclose() simply checks for similarity of the same indexes between the vectors\n",
    "\n",
    "import numpy as np\n",
    "\n",
    "a= np.array([[0.0, 0.0, 0.0],\n",
    "            [1.0, 1.0, -2.234],\n",
    "            [0.0, 0.0, 0.0]])\n",
    "\n",
    "b = np.array([1.0, 1.0, -2.234])\n",
    "a = np.transpose(a)\n",
    "b = np.expand_dims(b , axis=-1)\n",
    "print(np.isclose(a, b))"
   ]
  }
 ],
 "metadata": {
  "kernelspec": {
   "display_name": "Python 3",
   "language": "python",
   "name": "python3"
  },
  "language_info": {
   "codemirror_mode": {
    "name": "ipython",
    "version": 3
   },
   "file_extension": ".py",
   "mimetype": "text/x-python",
   "name": "python",
   "nbconvert_exporter": "python",
   "pygments_lexer": "ipython3",
   "version": "3.12.0"
  }
 },
 "nbformat": 4,
 "nbformat_minor": 2
}
