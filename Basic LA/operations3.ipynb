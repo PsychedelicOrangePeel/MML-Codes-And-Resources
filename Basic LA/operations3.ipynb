{
 "cells": [
  {
   "cell_type": "code",
   "execution_count": 1,
   "metadata": {},
   "outputs": [],
   "source": [
    "import numpy as np"
   ]
  },
  {
   "cell_type": "code",
   "execution_count": 3,
   "metadata": {},
   "outputs": [],
   "source": [
    "v3 = np.array([0, 1, 2])\n",
    "v4 = np.array([1, 0, 1])\n",
    "v5 = np.array([2, 3, 5])\n",
    "matrix_span_check = np.vstack([v3, v4, v5])"
   ]
  },
  {
   "cell_type": "code",
   "execution_count": 6,
   "metadata": {},
   "outputs": [
    {
     "name": "stdout",
     "output_type": "stream",
     "text": [
      "[[0 1 2]\n",
      " [1 0 1]\n",
      " [2 3 5]]\n",
      "\n",
      " the basis vectors are: [[1. 0. 0.]\n",
      " [0. 1. 0.]\n",
      " [0. 0. 1.]]\n"
     ]
    }
   ],
   "source": [
    "print(matrix_span_check)\n",
    "\n",
    "basis_vectors=np.eye(3)\n",
    "print(\"\\n the basis vectors are:\", basis_vectors)"
   ]
  },
  {
   "cell_type": "code",
   "execution_count": 8,
   "metadata": {},
   "outputs": [
    {
     "name": "stdout",
     "output_type": "stream",
     "text": [
      "[[0 1 2]\n",
      " [1 0 3]\n",
      " [2 1 5]]\n"
     ]
    }
   ],
   "source": [
    "print(matrix_span_check.T)\n",
    "\n",
    "#the .T method will transpose our matrix"
   ]
  },
  {
   "cell_type": "code",
   "execution_count": 12,
   "metadata": {},
   "outputs": [
    {
     "name": "stdout",
     "output_type": "stream",
     "text": [
      "3\n",
      "3\n"
     ]
    }
   ],
   "source": [
    "is_vector_in_span = np.linalg.matrix_rank(matrix_span_check) == np.linalg.matrix_rank(matrix_span_check.T)\n",
    "print(np.linalg.matrix_rank(matrix_span_check))\n",
    "print(np.linalg.matrix_rank(matrix_span_check.T))"
   ]
  },
  {
   "cell_type": "code",
   "execution_count": 10,
   "metadata": {},
   "outputs": [
    {
     "name": "stdout",
     "output_type": "stream",
     "text": [
      "True\n"
     ]
    }
   ],
   "source": [
    "print(is_vector_in_span)"
   ]
  }
 ],
 "metadata": {
  "kernelspec": {
   "display_name": "Python 3",
   "language": "python",
   "name": "python3"
  },
  "language_info": {
   "codemirror_mode": {
    "name": "ipython",
    "version": 3
   },
   "file_extension": ".py",
   "mimetype": "text/x-python",
   "name": "python",
   "nbconvert_exporter": "python",
   "pygments_lexer": "ipython3",
   "version": "3.12.0"
  }
 },
 "nbformat": 4,
 "nbformat_minor": 2
}
