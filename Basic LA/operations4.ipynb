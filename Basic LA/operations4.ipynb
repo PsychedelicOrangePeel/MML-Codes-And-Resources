{
 "cells": [
  {
   "cell_type": "code",
   "execution_count": 1,
   "metadata": {},
   "outputs": [],
   "source": [
    "import numpy as np"
   ]
  },
  {
   "cell_type": "code",
   "execution_count": 2,
   "metadata": {},
   "outputs": [],
   "source": [
    "# Task 1.1: Create a 1D vector 'v' with elements [1, 2, 3]\n",
    "v = np.array([1, 2, 3])\n",
    "\n",
    "# Task 1.2: Create a 3x3 matrix 'A' with elements [[1, 2, 3], [4, 5, 6], [7, 8, 9]]\n",
    "A = np.array([[1, 2, 3],\n",
    "              [4, 5, 6],\n",
    "              [7, 8, 9]])\n",
    "\n",
    "# Task 1.3: Create a 3D tensor 'T' with shape (3, 2, 3)\n",
    "T = np.array([[[1, 2, 3], [4, 5, 6]],\n",
    "              [[7, 8, 9], [10, 11, 12]],\n",
    "              [[13, 14, 15], [16, 17, 18]]])"
   ]
  },
  {
   "cell_type": "code",
   "execution_count": 3,
   "metadata": {},
   "outputs": [
    {
     "name": "stdout",
     "output_type": "stream",
     "text": [
      "L2 norm: 3.7416573867739413\n",
      "Inner Product: 32\n"
     ]
    }
   ],
   "source": [
    "# Task 5.1: Calculate the L2 norm of 'v'\n",
    "norm_vector_v = np.linalg.norm(v)\n",
    "print(\"L2 norm:\",norm_vector_v)\n",
    "\n",
    "# Task 5.2: Calculate the inner product of 'v' and [4, 5, 6]\n",
    "inner_product_result = np.dot(v, np.array([4, 5, 6]))\n",
    "print(\"Inner Product:\",inner_product_result)"
   ]
  },
  {
   "cell_type": "code",
   "execution_count": 4,
   "metadata": {},
   "outputs": [
    {
     "name": "stdout",
     "output_type": "stream",
     "text": [
      "Distance: 5.0\n"
     ]
    }
   ],
   "source": [
    "point1 = np.array([1, 2])\n",
    "point2 = np.array([4, 6])\n",
    "distance = np.linalg.norm(point1 - point2)\n",
    "print(\"Distance:\",distance)"
   ]
  }
 ],
 "metadata": {
  "kernelspec": {
   "display_name": "Python 3",
   "language": "python",
   "name": "python3"
  },
  "language_info": {
   "codemirror_mode": {
    "name": "ipython",
    "version": 3
   },
   "file_extension": ".py",
   "mimetype": "text/x-python",
   "name": "python",
   "nbconvert_exporter": "python",
   "pygments_lexer": "ipython3",
   "version": "3.12.0"
  }
 },
 "nbformat": 4,
 "nbformat_minor": 2
}
