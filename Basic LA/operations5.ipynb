{
 "cells": [
  {
   "cell_type": "code",
   "execution_count": 1,
   "metadata": {},
   "outputs": [],
   "source": [
    "import numpy as np"
   ]
  },
  {
   "cell_type": "code",
   "execution_count": 2,
   "metadata": {},
   "outputs": [],
   "source": [
    "v = np.array([1, 2, 3])\n",
    "\n",
    "# Task 1.2: Create a 3x3 matrix 'A' with elements [[1, 2, 3], [4, 5, 6], [7, 8, 9]]\n",
    "A = np.array([[1, 2, 3],\n",
    "              [4, 5, 6],\n",
    "              [7, 8, 9]])\n",
    "\n",
    "# Task 1.3: Create a 3D tensor 'T' with shape (3, 2, 3)\n",
    "T = np.array([[[1, 2, 3], [4, 5, 6]],\n",
    "              [[7, 8, 9], [10, 11, 12]],\n",
    "              [[13, 14, 15], [16, 17, 18]]])"
   ]
  },
  {
   "cell_type": "code",
   "execution_count": 3,
   "metadata": {},
   "outputs": [
    {
     "name": "stdout",
     "output_type": "stream",
     "text": [
      "Error: 1.7320508075688772\n",
      "Cosine Similarity: 0.0\n"
     ]
    }
   ],
   "source": [
    "#Calculate the L2 norm of the error between predicted and true values\n",
    "predicted_values = np.array([2, 4, 6])\n",
    "true_values = np.array([1, 3, 5])\n",
    "error = np.linalg.norm(predicted_values - true_values)\n",
    "print(\"Error:\", error)\n",
    "\n",
    "#Calculate the cosine similarity between two feature vectors [1, 0] and [0, 1]\n",
    "feature1 = np.array([1, 0])\n",
    "feature2 = np.array([0, 1])\n",
    "cosine_similarity = np.dot(feature1, feature2) / (np.linalg.norm(feature1) * np.linalg.norm(feature2))\n",
    "print(\"Cosine Similarity:\", cosine_similarity)"
   ]
  },
  {
   "cell_type": "code",
   "execution_count": 4,
   "metadata": {},
   "outputs": [
    {
     "name": "stdout",
     "output_type": "stream",
     "text": [
      "Is it orthogonal? False\n",
      "Orthogonal vector to 'v': [ 1.07142857 -0.85714286  0.21428571]\n"
     ]
    }
   ],
   "source": [
    "# Task 6.3: Check if 'v' and [1, -1, 0] are orthogonal\n",
    "vector_c = np.array([1, -1, 0])\n",
    "is_orthogonal = np.dot(v, vector_c) == 0\n",
    "print(\"Is it orthogonal?\", is_orthogonal)\n",
    "\n",
    "# Task 6.4: Generate an orthogonal vector to 'v'\n",
    "# Using Gram-Schmidt process to find an orthogonal vector\n",
    "def gram_schmidt(v1, v2):\n",
    "    projection = np.dot(v1, v2) / np.dot(v1, v1) * v1\n",
    "    orthogonal_vector = v2 - projection\n",
    "    return orthogonal_vector\n",
    "\n",
    "orthogonal_vector_to_v = gram_schmidt(v, vector_c)\n",
    "print(\"Orthogonal vector to 'v':\", orthogonal_vector_to_v)"
   ]
  }
 ],
 "metadata": {
  "kernelspec": {
   "display_name": "Python 3",
   "language": "python",
   "name": "python3"
  },
  "language_info": {
   "codemirror_mode": {
    "name": "ipython",
    "version": 3
   },
   "file_extension": ".py",
   "mimetype": "text/x-python",
   "name": "python",
   "nbconvert_exporter": "python",
   "pygments_lexer": "ipython3",
   "version": "3.12.0"
  }
 },
 "nbformat": 4,
 "nbformat_minor": 2
}
